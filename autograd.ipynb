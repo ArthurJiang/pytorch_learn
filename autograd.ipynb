{
 "cells": [
  {
   "cell_type": "code",
   "execution_count": 13,
   "metadata": {},
   "outputs": [],
   "source": [
    "import torch\n",
    "import torchvision\n",
    "import numpy as np"
   ]
  },
  {
   "cell_type": "code",
   "execution_count": 14,
   "metadata": {},
   "outputs": [
    {
     "name": "stdout",
     "output_type": "stream",
     "text": [
      "False\n",
      "False\n",
      "True\n"
     ]
    }
   ],
   "source": [
    "x = torch.randn(5, 5)\n",
    "y = torch.randn(5, 5)\n",
    "z = torch.randn(5, 5, requires_grad=True)\n",
    "\n",
    "# False, because requires_grad is False by default\n",
    "print(x.requires_grad)\n",
    "a = x + y\n",
    "# False, because both x.requires_grad and y.requires_grad are False\n",
    "print(a.requires_grad)\n",
    "b = x + z\n",
    "# True, because z.requires_grad is True\n",
    "print(b.requires_grad)"
   ]
  },
  {
   "cell_type": "code",
   "execution_count": 40,
   "metadata": {},
   "outputs": [
    {
     "name": "stdout",
     "output_type": "stream",
     "text": [
      "torch.Size([2, 2]) torch.float32 cpu\n",
      "torch.Size([2, 3]) torch.int64 cpu\n",
      "torch.Size([2, 4]) torch.int32 cpu\n",
      "tensor(-1.)\n",
      "tensor([1, 2])\n",
      "tensor(3)\n",
      "3\n"
     ]
    }
   ],
   "source": [
    "# Create tensor\n",
    "x = torch.tensor([[1., -1.], [1., -1.]])\n",
    "print(x.size(), x.dtype, x.device)\n",
    "y = torch.tensor(np.array([[1, 2, 3], [4, 5, 6]]))\n",
    "print(y.size(), y.dtype, y.device)\n",
    "z = torch.zeros([2, 4], dtype=torch.int32)\n",
    "print(z.size(), z.dtype, z.device)\n",
    "\n",
    "# Access tensor\n",
    "print(x[0][1])\n",
    "print(y[0][:2])\n",
    "\n",
    "# Get python number from a single value tensor\n",
    "print(y[0][2])\n",
    "print(y[0][2].item())"
   ]
  },
  {
   "cell_type": "code",
   "execution_count": null,
   "metadata": {},
   "outputs": [],
   "source": []
  }
 ],
 "metadata": {
  "kernelspec": {
   "display_name": "Python 3",
   "language": "python",
   "name": "python3"
  },
  "language_info": {
   "codemirror_mode": {
    "name": "ipython",
    "version": 3
   },
   "file_extension": ".py",
   "mimetype": "text/x-python",
   "name": "python",
   "nbconvert_exporter": "python",
   "pygments_lexer": "ipython3",
   "version": "3.6.6"
  }
 },
 "nbformat": 4,
 "nbformat_minor": 2
}
